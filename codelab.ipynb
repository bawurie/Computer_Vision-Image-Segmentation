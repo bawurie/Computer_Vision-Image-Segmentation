{
 "cells": [
  {
   "cell_type": "markdown",
   "id": "f2e030a2",
   "metadata": {},
   "source": [
    "# Image Thresholding"
   ]
  },
  {
   "cell_type": "code",
   "execution_count": null,
   "id": "11fa5bb0",
   "metadata": {},
   "outputs": [],
   "source": [
    "from PIL import Image\n",
    "filename_cat = \"cat.jpg\"\n",
    "with Image.open(filename_cat) as img_cat:\n",
    "    img_cat.load()\n",
    "img_cat = img_cat.crop((800, 0, 1650, 1281))\n",
    "img_cat.show()"
   ]
  },
  {
   "cell_type": "code",
   "execution_count": 6,
   "id": "575b86e7",
   "metadata": {},
   "outputs": [],
   "source": [
    "img_cat_gray = img_cat.convert(\"L\")\n",
    "img_cat_gray.show()\n",
    "\n",
    "threshold = 100\n",
    "img_cat_threshold = img_cat_gray.point(\n",
    "    lambda x: 255 if x > threshold else 0)\n",
    "img_cat_threshold.show()"
   ]
  },
  {
   "cell_type": "code",
   "execution_count": 7,
   "id": "263b6900",
   "metadata": {},
   "outputs": [],
   "source": [
    "red, green, blue = img_cat.split()\n",
    "red.show()\n",
    "green.show()\n",
    "blue.show()"
   ]
  },
  {
   "cell_type": "code",
   "execution_count": 52,
   "id": "65403464",
   "metadata": {},
   "outputs": [],
   "source": [
    "threshold = 57\n",
    "img_cat_threshold = blue.point(lambda x: 255 if x > threshold else 0)\n",
    "img_cat_threshold = img_cat_threshold.convert(\"1\")\n",
    "img_cat_threshold.show()"
   ]
  },
  {
   "cell_type": "markdown",
   "id": "2d49bb7b",
   "metadata": {},
   "source": [
    "## Erosion and Dilation"
   ]
  },
  {
   "cell_type": "code",
   "execution_count": 32,
   "id": "b0657b30",
   "metadata": {},
   "outputs": [],
   "source": [
    "from PIL import ImageFilter\n",
    "filename = \"dot_and_hole.jpg\"\n",
    "\n",
    "with Image.open(filename) as img:\n",
    "    img.load()\n",
    "\n",
    "\n",
    "for _ in range(3):\n",
    "    img = img.filter(ImageFilter.MinFilter(3))\n",
    "\n",
    "img.show()"
   ]
  },
  {
   "cell_type": "code",
   "execution_count": 33,
   "id": "ed1e8e0b",
   "metadata": {},
   "outputs": [],
   "source": [
    "with Image.open(filename) as img:\n",
    "    img.load()\n",
    "\n",
    "for _ in range(3):\n",
    "    img = img.filter(ImageFilter.MaxFilter(3))\n",
    "\n",
    "img.show()"
   ]
  },
  {
   "cell_type": "code",
   "execution_count": 35,
   "id": "931e3aa0",
   "metadata": {},
   "outputs": [],
   "source": [
    "with Image.open(filename) as img:\n",
    "    img.load()\n",
    "\n",
    "for _ in range(10):\n",
    "    img = img.filter(ImageFilter.MinFilter(3))\n",
    "\n",
    "img.show()\n",
    "\n",
    "for _ in range(10):\n",
    "    img = img.filter(ImageFilter.MaxFilter(3))\n",
    "\n",
    "img.show()"
   ]
  },
  {
   "cell_type": "code",
   "execution_count": 38,
   "id": "c108bcb5",
   "metadata": {},
   "outputs": [],
   "source": [
    "def erode(cycles, image):\n",
    "    for _ in range(cycles):\n",
    "         image = image.filter(ImageFilter.MinFilter(3))\n",
    "    return image\n",
    "\n",
    "def dilate(cycles, image):\n",
    "    for _ in range(cycles):\n",
    "         image = image.filter(ImageFilter.MaxFilter(3))\n",
    "    return image"
   ]
  },
  {
   "cell_type": "markdown",
   "id": "2e46e33e",
   "metadata": {},
   "source": [
    "## Image Segmentation Using Thresholding"
   ]
  },
  {
   "cell_type": "code",
   "execution_count": 39,
   "id": "fc9961df",
   "metadata": {},
   "outputs": [],
   "source": [
    "step_1 = erode(12, img_cat_threshold)\n",
    "step_1.show()"
   ]
  },
  {
   "cell_type": "code",
   "execution_count": 40,
   "id": "9e001a92",
   "metadata": {},
   "outputs": [],
   "source": [
    "step_2 = dilate(58, step_1)\n",
    "step_2.show()"
   ]
  },
  {
   "cell_type": "code",
   "execution_count": 41,
   "id": "95817e1e",
   "metadata": {},
   "outputs": [],
   "source": [
    "cat_mask = erode(45, step_2)\n",
    "cat_mask.show()"
   ]
  },
  {
   "cell_type": "code",
   "execution_count": 42,
   "id": "b68c3b8a",
   "metadata": {},
   "outputs": [],
   "source": [
    "cat_mask = cat_mask.convert(\"L\")\n",
    "cat_mask = cat_mask.filter(ImageFilter.BoxBlur(20))\n",
    "cat_mask.show()"
   ]
  },
  {
   "cell_type": "code",
   "execution_count": 43,
   "id": "dbd7f6ea",
   "metadata": {},
   "outputs": [],
   "source": [
    "blank = img_cat.point(lambda _: 0)\n",
    "cat_segmented = Image.composite(img_cat, blank, cat_mask)\n",
    "cat_segmented.show()"
   ]
  },
  {
   "cell_type": "markdown",
   "id": "9960442f",
   "metadata": {},
   "source": [
    "## Superimposition of Images Using Image.paste()"
   ]
  },
  {
   "cell_type": "code",
   "execution_count": 44,
   "id": "eeb5b77f",
   "metadata": {},
   "outputs": [],
   "source": [
    "filename_monastery = \"monastery.jpg\"\n",
    "with Image.open(filename_monastery) as img_monastery:\n",
    "    img_monastery.load()\n",
    "\n",
    "img_monastery.paste(\n",
    "    img_cat.resize((img_cat.width // 5, img_cat.height // 5)),\n",
    "    (1300, 750),\n",
    "    cat_mask.resize((cat_mask.width // 5, cat_mask.height // 5)),\n",
    ")\n",
    "\n",
    "img_monastery.show()"
   ]
  },
  {
   "cell_type": "markdown",
   "id": "b1697ee0",
   "metadata": {},
   "source": [
    "# Thank You"
   ]
  }
 ],
 "metadata": {
  "kernelspec": {
   "display_name": "Python 3 (ipykernel)",
   "language": "python",
   "name": "python3"
  },
  "language_info": {
   "codemirror_mode": {
    "name": "ipython",
    "version": 3
   },
   "file_extension": ".py",
   "mimetype": "text/x-python",
   "name": "python",
   "nbconvert_exporter": "python",
   "pygments_lexer": "ipython3",
   "version": "3.11.5"
  }
 },
 "nbformat": 4,
 "nbformat_minor": 5
}
